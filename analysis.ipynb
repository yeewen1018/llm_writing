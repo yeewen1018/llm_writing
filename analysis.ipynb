{
 "cells": [
  {
   "cell_type": "markdown",
   "metadata": {},
   "source": [
    "## **MoneyLion LLM Engineer Take-home Assessment**\n",
    "\n",
    "\n",
    "In this notebook, I will demonstrate the steps that I have taken to optimize a large language model (LLM) to allow users to ask questions about their bank transactions in natural language (English) and make informed financial decisions. \n",
    "\n",
    "The process can be summarized in the following steps 📋: \n",
    "1. **Exploration of the dataset**: Analyze the provided dataset to understand its structure and features. \n",
    "2. **Identifying a baseline LLM**: Select a suitable LLM to serve as the starting point. \n",
    "3. **Optimize the LLM**: Apply optimization techniques to improve the model's ability to understand and respond to customer's financial queries. \n",
    "4. **Results and next steps**: Present the results and suggest potential future improvements. \n",
    "\n",
    "---"
   ]
  },
  {
   "cell_type": "code",
   "execution_count": 1,
   "metadata": {},
   "outputs": [],
   "source": [
    "from langchain_community.chat_models import ChatOpenAI\n",
    "from langchain_experimental.tools import PythonAstREPLTool\n",
    "from langchain_experimental.utilities import PythonREPL\n",
    "from langchain.agents import Tool\n",
    "from langchain.agents import initialize_agent \n",
    "from langchain.agents.agent_types import AgentType \n",
    "from langchain.memory import ConversationBufferMemory\n",
    "\n",
    "import pandas as pd \n",
    "from datetime import datetime \n",
    "from my_sk import sk # Private OpenAI API key \n",
    "import matplotlib.pyplot as plt \n",
    "import numpy as np \n",
    "\n",
    "# Global variables \n",
    "CLIENT_ID = 6   # ID of specific client to interact with. "
   ]
  },
  {
   "cell_type": "markdown",
   "metadata": {},
   "source": [
    "### **Step 1: Exploration of the dataset** 🔍\n",
    "The first step is to explore the dataset to understand its contents. Upon inspection, the dataset appears to be a <span style=\"color:red\">**central record**</span> containing all customers and their respective transaction details, as shown below: "
   ]
  },
  {
   "cell_type": "code",
   "execution_count": 2,
   "metadata": {},
   "outputs": [
    {
     "data": {
      "text/html": [
       "<div>\n",
       "<style scoped>\n",
       "    .dataframe tbody tr th:only-of-type {\n",
       "        vertical-align: middle;\n",
       "    }\n",
       "\n",
       "    .dataframe tbody tr th {\n",
       "        vertical-align: top;\n",
       "    }\n",
       "\n",
       "    .dataframe thead th {\n",
       "        text-align: right;\n",
       "    }\n",
       "</style>\n",
       "<table border=\"1\" class=\"dataframe\">\n",
       "  <thead>\n",
       "    <tr style=\"text-align: right;\">\n",
       "      <th></th>\n",
       "      <th>clnt_id</th>\n",
       "      <th>bank_id</th>\n",
       "      <th>acc_id</th>\n",
       "      <th>txn_id</th>\n",
       "      <th>txn_date</th>\n",
       "      <th>desc</th>\n",
       "      <th>amt</th>\n",
       "      <th>cat</th>\n",
       "      <th>merchant</th>\n",
       "    </tr>\n",
       "  </thead>\n",
       "  <tbody>\n",
       "    <tr>\n",
       "      <th>0</th>\n",
       "      <td>6</td>\n",
       "      <td>1</td>\n",
       "      <td>1</td>\n",
       "      <td>54</td>\n",
       "      <td>31/07/2023 0:00</td>\n",
       "      <td>CLOC Advance</td>\n",
       "      <td>6.286</td>\n",
       "      <td>Shops</td>\n",
       "      <td>NaN</td>\n",
       "    </tr>\n",
       "    <tr>\n",
       "      <th>1</th>\n",
       "      <td>6</td>\n",
       "      <td>1</td>\n",
       "      <td>1</td>\n",
       "      <td>27</td>\n",
       "      <td>31/07/2023 0:00</td>\n",
       "      <td>CLOC Advance</td>\n",
       "      <td>6.286</td>\n",
       "      <td>Shops</td>\n",
       "      <td>NaN</td>\n",
       "    </tr>\n",
       "    <tr>\n",
       "      <th>2</th>\n",
       "      <td>6</td>\n",
       "      <td>1</td>\n",
       "      <td>1</td>\n",
       "      <td>11</td>\n",
       "      <td>01/08/2023 0:00</td>\n",
       "      <td>CLOC Advance</td>\n",
       "      <td>2.268</td>\n",
       "      <td>Shops</td>\n",
       "      <td>NaN</td>\n",
       "    </tr>\n",
       "    <tr>\n",
       "      <th>3</th>\n",
       "      <td>28</td>\n",
       "      <td>1</td>\n",
       "      <td>1</td>\n",
       "      <td>108</td>\n",
       "      <td>25/07/2023 0:00</td>\n",
       "      <td>1INFINITELOOP@ 07/25 #68 PMNT RCVD 1INFINITELO...</td>\n",
       "      <td>59.100</td>\n",
       "      <td>Shops</td>\n",
       "      <td>1INFINITE</td>\n",
       "    </tr>\n",
       "    <tr>\n",
       "      <th>4</th>\n",
       "      <td>28</td>\n",
       "      <td>1</td>\n",
       "      <td>1</td>\n",
       "      <td>136</td>\n",
       "      <td>14/08/2023 0:00</td>\n",
       "      <td>1INFINITELOOP@ 08/14 #68 PMNT RCVD 1INFINITELO...</td>\n",
       "      <td>4.924</td>\n",
       "      <td>Shops</td>\n",
       "      <td>1INFINITE</td>\n",
       "    </tr>\n",
       "  </tbody>\n",
       "</table>\n",
       "</div>"
      ],
      "text/plain": [
       "   clnt_id  bank_id  acc_id  txn_id         txn_date  \\\n",
       "0        6        1       1      54  31/07/2023 0:00   \n",
       "1        6        1       1      27  31/07/2023 0:00   \n",
       "2        6        1       1      11  01/08/2023 0:00   \n",
       "3       28        1       1     108  25/07/2023 0:00   \n",
       "4       28        1       1     136  14/08/2023 0:00   \n",
       "\n",
       "                                                desc     amt    cat   merchant  \n",
       "0                                       CLOC Advance   6.286  Shops        NaN  \n",
       "1                                       CLOC Advance   6.286  Shops        NaN  \n",
       "2                                       CLOC Advance   2.268  Shops        NaN  \n",
       "3  1INFINITELOOP@ 07/25 #68 PMNT RCVD 1INFINITELO...  59.100  Shops  1INFINITE  \n",
       "4  1INFINITELOOP@ 08/14 #68 PMNT RCVD 1INFINITELO...   4.924  Shops  1INFINITE  "
      ]
     },
     "execution_count": 2,
     "metadata": {},
     "output_type": "execute_result"
    }
   ],
   "source": [
    "data_frame = pd.read_csv('./data.csv')\n",
    "data_frame.head()"
   ]
  },
  {
   "cell_type": "code",
   "execution_count": 3,
   "metadata": {},
   "outputs": [
    {
     "name": "stdout",
     "output_type": "stream",
     "text": [
      "Number of transactions: 257063\n",
      "Number of users: 875\n"
     ]
    }
   ],
   "source": [
    "# Determine the number of transactions \n",
    "num_transactions = data_frame.shape[0]\n",
    "\n",
    "# Determine the number of unique users (unique clnt_id)\n",
    "num_users = data_frame['clnt_id'].nunique() \n",
    "\n",
    "print(f'Number of transactions: {num_transactions}')\n",
    "print(f'Number of users: {num_users}')"
   ]
  },
  {
   "cell_type": "markdown",
   "metadata": {},
   "source": [
    "The provided dataset contains **hundreds of thousands of transactions** across **hundreds of customers**, which, in a real-world setting, could easily scale to millions.\n",
    "\n",
    "Our goal is to leverage an LLM to answer customer queries based on these transaction data. However, there are three important considerations:\n",
    "\n",
    "1. **Technical perspective**:  \n",
    "   Having the LLM to interact with the entire database for each query would introduce significant overhead and latency.\n",
    "   \n",
    "2. **Privacy perspective**:  \n",
    "   It is crucial to ensure the LLM does not expose information about other customers' financial activity.\n",
    "   \n",
    "3. **User perspective**:  \n",
    "   The LLM's responses should be generated exclusively from the user’s own transaction details to provide accurate, personalised insights.\n",
    "\n",
    "\n",
    "#### <span style=\"color:red\">**Solution: Isolating User Data**</span>\n",
    "\n",
    "To address these considerations, we must create a **separate dataframe** containing only the transaction data relevant to the customer making the query. The LLM will interact solely with this filtered data, ensuring:\n",
    "\n",
    "- **Faster query processing** by reducing the dataframe size.\n",
    "- **Complete privacy** by restricting access to only the user's data.\n",
    "- **Personalised insights** tailored to the individual customer’s financial activity.\n",
    "\n",
    "In a production environment, robust encryption and authentication processes would be essential. Common methods include: **Usernames & passwords**, **Two-factor authentication (2FA)**, or **Biometric checks**. These would be necessary to **validate user identity** before allowing interaction with the LLM and access to the filtered transaction data. \n",
    "\n",
    "Below is a schematic diagram of how this pipeline would function in a production environment: \n",
    "\n",
    "\n",
    "\n",
    "<img src=\"./pipeline.png\" alt=\"Secure Architecture Diagram\" width=\"800\"/>\n",
    "\n",
    "\n",
    "In brief, the user securely logs in using a username and password. Once authenticated, the system retrieves the user's transaction data. The LLM interacts only with this retrieved transaction data to generate personalized responses for the authenticated user. \n",
    "\n",
    "For the purpose of this assessment, I will use a **simplifed approach** where the user manually inputs their client ID (e.g., 1, 2, 888). Based on this input, I will implement a function to extract the corresponding transaction details into a new dataframe, which the LLM will then interact with:\n"
   ]
  },
  {
   "cell_type": "code",
   "execution_count": 4,
   "metadata": {},
   "outputs": [],
   "source": [
    "def extract_customer_transactions(client_id, data_frame): \n",
    "    \"\"\"\n",
    "    This function extracts all transaction details for a specific client from \n",
    "    a dataframe. The dataframe is expected to have the same format as 'data.csv'\n",
    "    provided for this assessment. \n",
    "\n",
    "    Args: \n",
    "    - client_id (int): The ID of the client whose transactions we want to extract. \n",
    "    - data_frame (pd.DataFrame): The dataframe containing all customer transactions.  \n",
    "    \n",
    "    Returns: \n",
    "    - pd.DataFrame: A dataframe containing only the transactions for the specified client. \n",
    "    \"\"\"\n",
    "    customer_transactions = data_frame[data_frame['clnt_id'] == client_id]\n",
    "    return customer_transactions "
   ]
  },
  {
   "cell_type": "markdown",
   "metadata": {},
   "source": [
    "For this assessment, I will randomly select `clnt_id = 6` as an example to demonstrate the extraction of transaction details and for the following LLM optimization. Please feel free to select another `clnt_id` as you wish. "
   ]
  },
  {
   "cell_type": "code",
   "execution_count": 5,
   "metadata": {},
   "outputs": [
    {
     "data": {
      "text/html": [
       "<div>\n",
       "<style scoped>\n",
       "    .dataframe tbody tr th:only-of-type {\n",
       "        vertical-align: middle;\n",
       "    }\n",
       "\n",
       "    .dataframe tbody tr th {\n",
       "        vertical-align: top;\n",
       "    }\n",
       "\n",
       "    .dataframe thead th {\n",
       "        text-align: right;\n",
       "    }\n",
       "</style>\n",
       "<table border=\"1\" class=\"dataframe\">\n",
       "  <thead>\n",
       "    <tr style=\"text-align: right;\">\n",
       "      <th></th>\n",
       "      <th>clnt_id</th>\n",
       "      <th>bank_id</th>\n",
       "      <th>acc_id</th>\n",
       "      <th>txn_id</th>\n",
       "      <th>txn_date</th>\n",
       "      <th>desc</th>\n",
       "      <th>amt</th>\n",
       "      <th>cat</th>\n",
       "      <th>merchant</th>\n",
       "    </tr>\n",
       "  </thead>\n",
       "  <tbody>\n",
       "    <tr>\n",
       "      <th>0</th>\n",
       "      <td>6</td>\n",
       "      <td>1</td>\n",
       "      <td>1</td>\n",
       "      <td>54</td>\n",
       "      <td>31/07/2023 0:00</td>\n",
       "      <td>CLOC Advance</td>\n",
       "      <td>6.286</td>\n",
       "      <td>Shops</td>\n",
       "      <td>NaN</td>\n",
       "    </tr>\n",
       "    <tr>\n",
       "      <th>1</th>\n",
       "      <td>6</td>\n",
       "      <td>1</td>\n",
       "      <td>1</td>\n",
       "      <td>27</td>\n",
       "      <td>31/07/2023 0:00</td>\n",
       "      <td>CLOC Advance</td>\n",
       "      <td>6.286</td>\n",
       "      <td>Shops</td>\n",
       "      <td>NaN</td>\n",
       "    </tr>\n",
       "    <tr>\n",
       "      <th>2</th>\n",
       "      <td>6</td>\n",
       "      <td>1</td>\n",
       "      <td>1</td>\n",
       "      <td>11</td>\n",
       "      <td>01/08/2023 0:00</td>\n",
       "      <td>CLOC Advance</td>\n",
       "      <td>2.268</td>\n",
       "      <td>Shops</td>\n",
       "      <td>NaN</td>\n",
       "    </tr>\n",
       "    <tr>\n",
       "      <th>100157</th>\n",
       "      <td>6</td>\n",
       "      <td>1</td>\n",
       "      <td>1</td>\n",
       "      <td>42</td>\n",
       "      <td>31/07/2023 0:00</td>\n",
       "      <td>Pos Adjustment - Cr Brigit New York NY US</td>\n",
       "      <td>10.000</td>\n",
       "      <td>Loans</td>\n",
       "      <td>NaN</td>\n",
       "    </tr>\n",
       "    <tr>\n",
       "      <th>100158</th>\n",
       "      <td>6</td>\n",
       "      <td>1</td>\n",
       "      <td>1</td>\n",
       "      <td>48</td>\n",
       "      <td>16/06/2023 0:00</td>\n",
       "      <td>Pos Adjustment - Cr Empower Finance, I Visa Di...</td>\n",
       "      <td>20.000</td>\n",
       "      <td>Loans</td>\n",
       "      <td>Empower</td>\n",
       "    </tr>\n",
       "  </tbody>\n",
       "</table>\n",
       "</div>"
      ],
      "text/plain": [
       "        clnt_id  bank_id  acc_id  txn_id         txn_date  \\\n",
       "0             6        1       1      54  31/07/2023 0:00   \n",
       "1             6        1       1      27  31/07/2023 0:00   \n",
       "2             6        1       1      11  01/08/2023 0:00   \n",
       "100157        6        1       1      42  31/07/2023 0:00   \n",
       "100158        6        1       1      48  16/06/2023 0:00   \n",
       "\n",
       "                                                     desc     amt    cat  \\\n",
       "0                                            CLOC Advance   6.286  Shops   \n",
       "1                                            CLOC Advance   6.286  Shops   \n",
       "2                                            CLOC Advance   2.268  Shops   \n",
       "100157          Pos Adjustment - Cr Brigit New York NY US  10.000  Loans   \n",
       "100158  Pos Adjustment - Cr Empower Finance, I Visa Di...  20.000  Loans   \n",
       "\n",
       "       merchant  \n",
       "0           NaN  \n",
       "1           NaN  \n",
       "2           NaN  \n",
       "100157      NaN  \n",
       "100158  Empower  "
      ]
     },
     "execution_count": 5,
     "metadata": {},
     "output_type": "execute_result"
    }
   ],
   "source": [
    "filtered_dataframe = extract_customer_transactions(CLIENT_ID, data_frame)\n",
    "filtered_dataframe.head()"
   ]
  },
  {
   "cell_type": "code",
   "execution_count": 6,
   "metadata": {},
   "outputs": [
    {
     "name": "stdout",
     "output_type": "stream",
     "text": [
      "All rows have clnt_id 6\n"
     ]
    }
   ],
   "source": [
    "# Check validity of extracted results\n",
    "client_id_check = (filtered_dataframe['clnt_id'] == CLIENT_ID).all()\n",
    "if client_id_check:\n",
    "    print(f'All rows have clnt_id {CLIENT_ID}')\n",
    "else:\n",
    "    print(f'Not all rows have clnt_id == {CLIENT_ID}.')"
   ]
  },
  {
   "cell_type": "markdown",
   "metadata": {},
   "source": [
    "---\n",
    "\n",
    "### **Step 2: Identifying a Baseline LLM** 🤖\n",
    "\n",
    "In the long term, it would be ideal to leverage open-source models like Llama-2, Llama-3, or Phi-3. These models offer the advantage of reducing dependency on proprietary solutions and minimizing costs associated with token usage. However, hosting open-source models requires **GPU resources**, which are not readily available for this assessment.\n",
    "\n",
    "Given this constraint, and in the interest of time, I will be using <span style=\"color:red\">**OpenAI's GPT-4o**</span> model via <span style=\"color:red\">**API**</span> for this assessment. GPT-4o is particularly strong in tasks involving reasoning and instruction-following, making it a solid baseline for our purpose.\n",
    "\n",
    "Although GPT-4o is used here, the optimization techniques demonstrated in this notebook can be applied to open-source models as well. Therefore, if we opt to use open-source models in production, the methods and ideas explored here can be easily adapted and reused.\n",
    "\n",
    "\n"
   ]
  },
  {
   "cell_type": "code",
   "execution_count": 7,
   "metadata": {},
   "outputs": [
    {
     "name": "stderr",
     "output_type": "stream",
     "text": [
      "/var/folders/pt/t0g9ljpx2p12mnvhk_1b0lv80000gn/T/ipykernel_5410/2790786136.py:2: LangChainDeprecationWarning: The class `ChatOpenAI` was deprecated in LangChain 0.0.10 and will be removed in 1.0. An updated version of the class exists in the :class:`~langchain-openai package and should be used instead. To use it run `pip install -U :class:`~langchain-openai` and import as `from :class:`~langchain_openai import ChatOpenAI``.\n",
      "  llm = ChatOpenAI(model='gpt-4o',api_key=sk)\n"
     ]
    }
   ],
   "source": [
    "# Set up OpenAI API \n",
    "llm = ChatOpenAI(model='gpt-4o',api_key=sk)"
   ]
  },
  {
   "cell_type": "markdown",
   "metadata": {},
   "source": [
    "---\n",
    "\n",
    "### **Step 3: Optimizing the LLM** 🔧\n",
    "\n",
    "Since a customer's transaction data is not part of GPT-4o's built-in knowledge (parameters), the model cannot directly generate valid responses. One brute-force solution is to write a function to automatically append the entire filtered dataframe to the customer's query before sending it to the LLM. However, this approach is inefficient due to context length limitations and wasted tokens.\n",
    "\n",
    "A more effective strategy is to provide only the most relevant information to the LLM. This can be achieved through **Retrieval-Augmented Generation (RAG)** techniques. By retrieving relevant data, we reduce token usage while improving the LLM's ability to generate accurate responses. \n",
    "\n",
    "#### <span style=\"color:red\">**Challenges with Standard RAG Techniques** </span> 🧩\n",
    "However, standard RAG methods often fall short when retrieving customer-specific data. Typically, data are chunked and stored as embedding vectors. A customer's query is then encoded as an embedding, and the most relevant information is retrieved using the dot product between the query and the stored embeddings. This can lead to semantically similar but contextually irrelevant results.\n",
    "\n",
    "For example, if a customer asks, *\"How much did I spend last week on Uber?\"*, standard RAG systems might return any transaction that mentions \"Uber\", even if it is from the wrong time period, such as from last month. This can lead to incorrect responses, especially when querying customer-specific data.\n",
    "\n",
    "While advanced RAG techniques, like **HyDE**, exist, they also face limitations due to the nature of embeddings.\n",
    "\n",
    "#### <span style=\"color:red\">**Alternative Approach: Agent-Based Framework**</span> 🤖\n",
    "\n",
    "A more robust solution is to use an **agent-based framework** that allows the LLM to reason through (e.g., chain of thought) the retrieval and response generation process. In this framework, the LLM is also equipped with tools like a Python shell or APIs (e.g., Google Search) to retrieve information when needed and generate more accurate responses.\n",
    "\n",
    "**LangChain** is an excellent library for implementing this agent-based framework, and I will demonstrate how to use it below. Developing a LangChain agent that works effectively for our needs requires extensive prompting to identify the necessary tools. For clarity purposes, I will directly show the code implementation with the tools I found necessary for the GPT-4o powered LangChain agent to handle financial data queries.\n",
    "\n",
    "The tools include:\n",
    "\n",
    "1. **Pandas DataFrame attached to a Python REPL/Shell** 🗂️  \n",
    "   This allows the agent to interact directly with the customer's transaction data in real-time, enabling dynamic querying and data manipulation.\n",
    "\n",
    "2. **Python Shell for Plotting** 📊  \n",
    "   A Python shell is provided for generating visualizations, which can help customers better analyze their financial data.\n",
    "\n",
    "3. **Current Time Function** 🕒  \n",
    "   Since many customer queries involve time (e.g., \"last week\" or \"this year\"), a function to determine the current time is essential for accurate responses.\n",
    "\n",
    "A **memory buffer** 💾 is also included to maintain the conversation history. This helps the GPT-4o powered LangChain agent provide more contextually relevant responses, especially when the customer's queries are vague or require references to previous interactions. \n",
    "\n",
    "Last thing to note is, there are various types of agents: zero-shot agents that reason independently without asking for input from the user, self-ask-with-search agents that carry out step-by-step reasoning, and conversational agents. For this assessment, I have chosen to use a **conversational agent** to enable more interaction with the user. This approach allows the agent to ask clarifying questions when needed, ensuring more accurate and tailored responses. Below is a schematic diagram of the LangChain-based framework I implemented:\n",
    "\n",
    "<img src=\"./langchain_agent.png\" alt=\"Langchain Agent Diagram\" width=\"1000\"/>"
   ]
  },
  {
   "cell_type": "markdown",
   "metadata": {},
   "source": [
    "#### **Set up tools** "
   ]
  },
  {
   "cell_type": "code",
   "execution_count": 8,
   "metadata": {},
   "outputs": [],
   "source": [
    "# Tool 1: Pandas DataFrame connected to a Python shell \n",
    "python_dataframe = PythonAstREPLTool(locals = {\"df\": filtered_dataframe})\n",
    "dataframe_tool = Tool(\n",
    "    name = \"Bank Transaction DataFrame\", \n",
    "    func = python_dataframe.run, \n",
    "    description = \"\"\"Useful for when you need to answer questions related to a customer's bank transactions. \n",
    "        The dataframe contains the following columns with these descriptions: \n",
    "\n",
    "        - **bank_id**: Unique identifier for the bank (Bank ID).\n",
    "        - **acc_id**: Account ID associated with the transaction.\n",
    "        - **txn_id**: Unique transaction ID.\n",
    "        - **txn_date**: Date and time of the transaction in the format \"DD/MM/YYYY HH:MM\" (e.g., 04/08/2023 00:00 for August 4th, 2023, at midnight).\n",
    "        - **desc**: A brief description or memo of the transaction.\n",
    "        - **amt**: The transaction amount (positive for credits and negative for debits).\n",
    "        - **cat**: The category of the transaction (e.g., groceries, utilities, dining).\n",
    "        - **merchant**: The name of the merchant involved in the transaction.\n",
    " \n",
    "        Important notes:\n",
    "        - Use the **amt** column to calculate total spending, sums, or individual transaction amounts. A positive value refers to money spent,\n",
    "        a negative value refers to money saved or received into account. \n",
    "        - If the query relates to the type or purpose of the transaction, reference the **cat** (category) column.\n",
    "        - For date-specific queries, extract and filter data based on **txn_date**, ensuring you respect the format provided.\n",
    "\n",
    "        Example interaction:\n",
    "        <user>: How much did I spend in total?\n",
    "        <assistant>: df['amt'].sum()\n",
    "        <assistant>: You have spent a total of $6,000.\n",
    "\n",
    "        <user>: How much money have I received from Zelle? \n",
    "        <assistant>: filtered_dataframe = df[df['merchant'].str.contains('Zelle', case = False) & df['cat'].str.contains('transfer debit', case = False)]\n",
    "        <assistant>: total = filtered_dataframe['amt'].sum()\n",
    "        <assistant>: Zelle transferred to you a total of $50. \n",
    "\n",
    "        Remember, you can combine filtering across multiple columns (e.g., **amt**, **cat**, **txn_date**) \n",
    "        to retrieve accurate and context-specific information. This dataframe is powered with a Python shell, so just run your pandas command here. \n",
    "        \"\"\"\n",
    "    )\n",
    "    \n",
    "# Tool 2: Python shell for plotting data \n",
    "python_shell = PythonREPL()\n",
    "shell_tool = Tool(\n",
    "    name = \"python_shell\", \n",
    "    description = \"A Python shell used only to generate matplotlib plots.\",\n",
    "    func = python_shell.run, \n",
    ") \n",
    "\n",
    "# Tool 3: Function to determine current time \n",
    "datetime_tool = Tool(\n",
    "    name=\"Datetime\",\n",
    "    func=lambda x: datetime.now().isoformat(),\n",
    "    description=\"Returns the current datetime in the following format: 2024-09-26T21:53:52.604177, \"\\\n",
    "        \"which corresponds to 26th of September, 2024 at 21:53 \" \\\n",
    "        \"Use this tool whenever you need to check the current date and time. \"\n",
    ")\n",
    "\n",
    "tools = [dataframe_tool, shell_tool, datetime_tool]"
   ]
  },
  {
   "cell_type": "markdown",
   "metadata": {},
   "source": [
    "#### **Set up memory buffer**"
   ]
  },
  {
   "cell_type": "code",
   "execution_count": 9,
   "metadata": {},
   "outputs": [
    {
     "name": "stderr",
     "output_type": "stream",
     "text": [
      "/var/folders/pt/t0g9ljpx2p12mnvhk_1b0lv80000gn/T/ipykernel_5410/3973616840.py:1: LangChainDeprecationWarning: Please see the migration guide at: https://python.langchain.com/docs/versions/migrating_memory/\n",
      "  memory = ConversationBufferMemory(\n"
     ]
    }
   ],
   "source": [
    "memory = ConversationBufferMemory(\n",
    "    memory_key = \"chat_history\", \n",
    "    return_messages=True,\n",
    "    )"
   ]
  },
  {
   "cell_type": "markdown",
   "metadata": {},
   "source": [
    "#### **Define system prompt** "
   ]
  },
  {
   "cell_type": "code",
   "execution_count": 10,
   "metadata": {},
   "outputs": [],
   "source": [
    "agent_kwargs = {\n",
    "    'prefix': f\"You are a helpful chatbot assistant for a financial institution. \"\\\n",
    "    \"Your role is to help users make informed financial decisions by answering questions about their bank transactions. \"\\\n",
    "    \"You have access to a dataframe that contains the transaction details for the customer you are serving now. \"\\\n",
    "    \"If you need to ask clarifying questions, just generate those questions as your final response. \"\\\n",
    "    \"You also have access to a Python shell, but use it only when you need to generate matplotlib plots. \"\\\n",
    "}"
   ]
  },
  {
   "cell_type": "markdown",
   "metadata": {},
   "source": [
    "#### **Set up agent**"
   ]
  },
  {
   "cell_type": "code",
   "execution_count": 11,
   "metadata": {},
   "outputs": [
    {
     "name": "stderr",
     "output_type": "stream",
     "text": [
      "/var/folders/pt/t0g9ljpx2p12mnvhk_1b0lv80000gn/T/ipykernel_5410/1991274636.py:1: LangChainDeprecationWarning: The function `initialize_agent` was deprecated in LangChain 0.1.0 and will be removed in 1.0. Use :meth:`~Use new agent constructor methods like create_react_agent, create_json_agent, create_structured_chat_agent, etc.` instead.\n",
      "  agent = initialize_agent(tools,\n"
     ]
    }
   ],
   "source": [
    "agent = initialize_agent(tools, \n",
    "                         llm, \n",
    "                         agent = AgentType.CONVERSATIONAL_REACT_DESCRIPTION,\n",
    "                         verbose = True, \n",
    "                         agent_kwargs=agent_kwargs,\n",
    "                         memory = memory, \n",
    "                         handle_parsing_errors = False, \n",
    "                         )"
   ]
  },
  {
   "cell_type": "markdown",
   "metadata": {},
   "source": [
    "#### **Check if agent runs** - Yes, it does but with parsing errors! "
   ]
  },
  {
   "cell_type": "code",
   "execution_count": 12,
   "metadata": {},
   "outputs": [
    {
     "name": "stderr",
     "output_type": "stream",
     "text": [
      "/var/folders/pt/t0g9ljpx2p12mnvhk_1b0lv80000gn/T/ipykernel_5410/2357772490.py:1: LangChainDeprecationWarning: The method `Chain.run` was deprecated in langchain 0.1.0 and will be removed in 1.0. Use :meth:`~invoke` instead.\n",
      "  response = agent.run(\"How much money have I transfered to Chime?\")\n"
     ]
    },
    {
     "name": "stdout",
     "output_type": "stream",
     "text": [
      "\n",
      "\n",
      "\u001b[1m> Entering new AgentExecutor chain...\u001b[0m\n",
      "\u001b[32;1m\u001b[1;3m```\n",
      "Thought: Do I need to use a tool? Yes\n",
      "Action: Bank Transaction DataFrame\n",
      "Action Input: df[df['merchant'].str.contains('Chime', case=False) & df['cat'].str.contains('transfer debit', case=False)]\u001b[0m\n",
      "Observation: \u001b[36;1m\u001b[1;3mEmpty DataFrame\n",
      "Columns: [clnt_id, bank_id, acc_id, txn_id, txn_date, desc, amt, cat, merchant]\n",
      "Index: []\u001b[0m\n",
      "Thought:"
     ]
    },
    {
     "ename": "ValueError",
     "evalue": "An output parsing error occurred. In order to pass this error back to the agent and have it try again, pass `handle_parsing_errors=True` to the AgentExecutor. This is the error: Could not parse LLM output: `No transactions were found where money was transferred to Chime from your account. If you have any other questions or need further assistance, feel free to ask!`",
     "output_type": "error",
     "traceback": [
      "\u001b[0;31m---------------------------------------------------------------------------\u001b[0m",
      "\u001b[0;31mOutputParserException\u001b[0m                     Traceback (most recent call last)",
      "File \u001b[0;32m~/anaconda3/envs/langchain-venv/lib/python3.12/site-packages/langchain/agents/agent.py:1363\u001b[0m, in \u001b[0;36mAgentExecutor._iter_next_step\u001b[0;34m(self, name_to_tool_map, color_mapping, inputs, intermediate_steps, run_manager)\u001b[0m\n\u001b[1;32m   1362\u001b[0m     \u001b[38;5;66;03m# Call the LLM to see what to do.\u001b[39;00m\n\u001b[0;32m-> 1363\u001b[0m     output \u001b[38;5;241m=\u001b[39m \u001b[38;5;28;43mself\u001b[39;49m\u001b[38;5;241;43m.\u001b[39;49m\u001b[43m_action_agent\u001b[49m\u001b[38;5;241;43m.\u001b[39;49m\u001b[43mplan\u001b[49m\u001b[43m(\u001b[49m\n\u001b[1;32m   1364\u001b[0m \u001b[43m        \u001b[49m\u001b[43mintermediate_steps\u001b[49m\u001b[43m,\u001b[49m\n\u001b[1;32m   1365\u001b[0m \u001b[43m        \u001b[49m\u001b[43mcallbacks\u001b[49m\u001b[38;5;241;43m=\u001b[39;49m\u001b[43mrun_manager\u001b[49m\u001b[38;5;241;43m.\u001b[39;49m\u001b[43mget_child\u001b[49m\u001b[43m(\u001b[49m\u001b[43m)\u001b[49m\u001b[43m \u001b[49m\u001b[38;5;28;43;01mif\u001b[39;49;00m\u001b[43m \u001b[49m\u001b[43mrun_manager\u001b[49m\u001b[43m \u001b[49m\u001b[38;5;28;43;01melse\u001b[39;49;00m\u001b[43m \u001b[49m\u001b[38;5;28;43;01mNone\u001b[39;49;00m\u001b[43m,\u001b[49m\n\u001b[1;32m   1366\u001b[0m \u001b[43m        \u001b[49m\u001b[38;5;241;43m*\u001b[39;49m\u001b[38;5;241;43m*\u001b[39;49m\u001b[43minputs\u001b[49m\u001b[43m,\u001b[49m\n\u001b[1;32m   1367\u001b[0m \u001b[43m    \u001b[49m\u001b[43m)\u001b[49m\n\u001b[1;32m   1368\u001b[0m \u001b[38;5;28;01mexcept\u001b[39;00m OutputParserException \u001b[38;5;28;01mas\u001b[39;00m e:\n",
      "File \u001b[0;32m~/anaconda3/envs/langchain-venv/lib/python3.12/site-packages/langchain/agents/agent.py:810\u001b[0m, in \u001b[0;36mAgent.plan\u001b[0;34m(self, intermediate_steps, callbacks, **kwargs)\u001b[0m\n\u001b[1;32m    809\u001b[0m full_output \u001b[38;5;241m=\u001b[39m \u001b[38;5;28mself\u001b[39m\u001b[38;5;241m.\u001b[39mllm_chain\u001b[38;5;241m.\u001b[39mpredict(callbacks\u001b[38;5;241m=\u001b[39mcallbacks, \u001b[38;5;241m*\u001b[39m\u001b[38;5;241m*\u001b[39mfull_inputs)\n\u001b[0;32m--> 810\u001b[0m \u001b[38;5;28;01mreturn\u001b[39;00m \u001b[38;5;28;43mself\u001b[39;49m\u001b[38;5;241;43m.\u001b[39;49m\u001b[43moutput_parser\u001b[49m\u001b[38;5;241;43m.\u001b[39;49m\u001b[43mparse\u001b[49m\u001b[43m(\u001b[49m\u001b[43mfull_output\u001b[49m\u001b[43m)\u001b[49m\n",
      "File \u001b[0;32m~/anaconda3/envs/langchain-venv/lib/python3.12/site-packages/langchain/agents/conversational/output_parser.py:42\u001b[0m, in \u001b[0;36mConvoOutputParser.parse\u001b[0;34m(self, text)\u001b[0m\n\u001b[1;32m     41\u001b[0m \u001b[38;5;28;01mif\u001b[39;00m \u001b[38;5;129;01mnot\u001b[39;00m match:\n\u001b[0;32m---> 42\u001b[0m     \u001b[38;5;28;01mraise\u001b[39;00m OutputParserException(\u001b[38;5;124mf\u001b[39m\u001b[38;5;124m\"\u001b[39m\u001b[38;5;124mCould not parse LLM output: `\u001b[39m\u001b[38;5;132;01m{\u001b[39;00mtext\u001b[38;5;132;01m}\u001b[39;00m\u001b[38;5;124m`\u001b[39m\u001b[38;5;124m\"\u001b[39m)\n\u001b[1;32m     43\u001b[0m action \u001b[38;5;241m=\u001b[39m match\u001b[38;5;241m.\u001b[39mgroup(\u001b[38;5;241m1\u001b[39m)\n",
      "\u001b[0;31mOutputParserException\u001b[0m: Could not parse LLM output: `No transactions were found where money was transferred to Chime from your account. If you have any other questions or need further assistance, feel free to ask!`",
      "\nDuring handling of the above exception, another exception occurred:\n",
      "\u001b[0;31mValueError\u001b[0m                                Traceback (most recent call last)",
      "Cell \u001b[0;32mIn[12], line 1\u001b[0m\n\u001b[0;32m----> 1\u001b[0m response \u001b[38;5;241m=\u001b[39m \u001b[43magent\u001b[49m\u001b[38;5;241;43m.\u001b[39;49m\u001b[43mrun\u001b[49m\u001b[43m(\u001b[49m\u001b[38;5;124;43m\"\u001b[39;49m\u001b[38;5;124;43mHow much money have I transfered to Chime?\u001b[39;49m\u001b[38;5;124;43m\"\u001b[39;49m\u001b[43m)\u001b[49m\n\u001b[1;32m      2\u001b[0m \u001b[38;5;28mprint\u001b[39m(response)\n",
      "File \u001b[0;32m~/anaconda3/envs/langchain-venv/lib/python3.12/site-packages/langchain_core/_api/deprecation.py:179\u001b[0m, in \u001b[0;36mdeprecated.<locals>.deprecate.<locals>.warning_emitting_wrapper\u001b[0;34m(*args, **kwargs)\u001b[0m\n\u001b[1;32m    177\u001b[0m     warned \u001b[38;5;241m=\u001b[39m \u001b[38;5;28;01mTrue\u001b[39;00m\n\u001b[1;32m    178\u001b[0m     emit_warning()\n\u001b[0;32m--> 179\u001b[0m \u001b[38;5;28;01mreturn\u001b[39;00m \u001b[43mwrapped\u001b[49m\u001b[43m(\u001b[49m\u001b[38;5;241;43m*\u001b[39;49m\u001b[43margs\u001b[49m\u001b[43m,\u001b[49m\u001b[43m \u001b[49m\u001b[38;5;241;43m*\u001b[39;49m\u001b[38;5;241;43m*\u001b[39;49m\u001b[43mkwargs\u001b[49m\u001b[43m)\u001b[49m\n",
      "File \u001b[0;32m~/anaconda3/envs/langchain-venv/lib/python3.12/site-packages/langchain/chains/base.py:606\u001b[0m, in \u001b[0;36mChain.run\u001b[0;34m(self, callbacks, tags, metadata, *args, **kwargs)\u001b[0m\n\u001b[1;32m    604\u001b[0m     \u001b[38;5;28;01mif\u001b[39;00m \u001b[38;5;28mlen\u001b[39m(args) \u001b[38;5;241m!=\u001b[39m \u001b[38;5;241m1\u001b[39m:\n\u001b[1;32m    605\u001b[0m         \u001b[38;5;28;01mraise\u001b[39;00m \u001b[38;5;167;01mValueError\u001b[39;00m(\u001b[38;5;124m\"\u001b[39m\u001b[38;5;124m`run` supports only one positional argument.\u001b[39m\u001b[38;5;124m\"\u001b[39m)\n\u001b[0;32m--> 606\u001b[0m     \u001b[38;5;28;01mreturn\u001b[39;00m \u001b[38;5;28;43mself\u001b[39;49m\u001b[43m(\u001b[49m\u001b[43margs\u001b[49m\u001b[43m[\u001b[49m\u001b[38;5;241;43m0\u001b[39;49m\u001b[43m]\u001b[49m\u001b[43m,\u001b[49m\u001b[43m \u001b[49m\u001b[43mcallbacks\u001b[49m\u001b[38;5;241;43m=\u001b[39;49m\u001b[43mcallbacks\u001b[49m\u001b[43m,\u001b[49m\u001b[43m \u001b[49m\u001b[43mtags\u001b[49m\u001b[38;5;241;43m=\u001b[39;49m\u001b[43mtags\u001b[49m\u001b[43m,\u001b[49m\u001b[43m \u001b[49m\u001b[43mmetadata\u001b[49m\u001b[38;5;241;43m=\u001b[39;49m\u001b[43mmetadata\u001b[49m\u001b[43m)\u001b[49m[\n\u001b[1;32m    607\u001b[0m         _output_key\n\u001b[1;32m    608\u001b[0m     ]\n\u001b[1;32m    610\u001b[0m \u001b[38;5;28;01mif\u001b[39;00m kwargs \u001b[38;5;129;01mand\u001b[39;00m \u001b[38;5;129;01mnot\u001b[39;00m args:\n\u001b[1;32m    611\u001b[0m     \u001b[38;5;28;01mreturn\u001b[39;00m \u001b[38;5;28mself\u001b[39m(kwargs, callbacks\u001b[38;5;241m=\u001b[39mcallbacks, tags\u001b[38;5;241m=\u001b[39mtags, metadata\u001b[38;5;241m=\u001b[39mmetadata)[\n\u001b[1;32m    612\u001b[0m         _output_key\n\u001b[1;32m    613\u001b[0m     ]\n",
      "File \u001b[0;32m~/anaconda3/envs/langchain-venv/lib/python3.12/site-packages/langchain_core/_api/deprecation.py:179\u001b[0m, in \u001b[0;36mdeprecated.<locals>.deprecate.<locals>.warning_emitting_wrapper\u001b[0;34m(*args, **kwargs)\u001b[0m\n\u001b[1;32m    177\u001b[0m     warned \u001b[38;5;241m=\u001b[39m \u001b[38;5;28;01mTrue\u001b[39;00m\n\u001b[1;32m    178\u001b[0m     emit_warning()\n\u001b[0;32m--> 179\u001b[0m \u001b[38;5;28;01mreturn\u001b[39;00m \u001b[43mwrapped\u001b[49m\u001b[43m(\u001b[49m\u001b[38;5;241;43m*\u001b[39;49m\u001b[43margs\u001b[49m\u001b[43m,\u001b[49m\u001b[43m \u001b[49m\u001b[38;5;241;43m*\u001b[39;49m\u001b[38;5;241;43m*\u001b[39;49m\u001b[43mkwargs\u001b[49m\u001b[43m)\u001b[49m\n",
      "File \u001b[0;32m~/anaconda3/envs/langchain-venv/lib/python3.12/site-packages/langchain/chains/base.py:389\u001b[0m, in \u001b[0;36mChain.__call__\u001b[0;34m(self, inputs, return_only_outputs, callbacks, tags, metadata, run_name, include_run_info)\u001b[0m\n\u001b[1;32m    357\u001b[0m \u001b[38;5;250m\u001b[39m\u001b[38;5;124;03m\"\"\"Execute the chain.\u001b[39;00m\n\u001b[1;32m    358\u001b[0m \n\u001b[1;32m    359\u001b[0m \u001b[38;5;124;03mArgs:\u001b[39;00m\n\u001b[0;32m   (...)\u001b[0m\n\u001b[1;32m    380\u001b[0m \u001b[38;5;124;03m        `Chain.output_keys`.\u001b[39;00m\n\u001b[1;32m    381\u001b[0m \u001b[38;5;124;03m\"\"\"\u001b[39;00m\n\u001b[1;32m    382\u001b[0m config \u001b[38;5;241m=\u001b[39m {\n\u001b[1;32m    383\u001b[0m     \u001b[38;5;124m\"\u001b[39m\u001b[38;5;124mcallbacks\u001b[39m\u001b[38;5;124m\"\u001b[39m: callbacks,\n\u001b[1;32m    384\u001b[0m     \u001b[38;5;124m\"\u001b[39m\u001b[38;5;124mtags\u001b[39m\u001b[38;5;124m\"\u001b[39m: tags,\n\u001b[1;32m    385\u001b[0m     \u001b[38;5;124m\"\u001b[39m\u001b[38;5;124mmetadata\u001b[39m\u001b[38;5;124m\"\u001b[39m: metadata,\n\u001b[1;32m    386\u001b[0m     \u001b[38;5;124m\"\u001b[39m\u001b[38;5;124mrun_name\u001b[39m\u001b[38;5;124m\"\u001b[39m: run_name,\n\u001b[1;32m    387\u001b[0m }\n\u001b[0;32m--> 389\u001b[0m \u001b[38;5;28;01mreturn\u001b[39;00m \u001b[38;5;28;43mself\u001b[39;49m\u001b[38;5;241;43m.\u001b[39;49m\u001b[43minvoke\u001b[49m\u001b[43m(\u001b[49m\n\u001b[1;32m    390\u001b[0m \u001b[43m    \u001b[49m\u001b[43minputs\u001b[49m\u001b[43m,\u001b[49m\n\u001b[1;32m    391\u001b[0m \u001b[43m    \u001b[49m\u001b[43mcast\u001b[49m\u001b[43m(\u001b[49m\u001b[43mRunnableConfig\u001b[49m\u001b[43m,\u001b[49m\u001b[43m \u001b[49m\u001b[43m{\u001b[49m\u001b[43mk\u001b[49m\u001b[43m:\u001b[49m\u001b[43m \u001b[49m\u001b[43mv\u001b[49m\u001b[43m \u001b[49m\u001b[38;5;28;43;01mfor\u001b[39;49;00m\u001b[43m \u001b[49m\u001b[43mk\u001b[49m\u001b[43m,\u001b[49m\u001b[43m \u001b[49m\u001b[43mv\u001b[49m\u001b[43m \u001b[49m\u001b[38;5;129;43;01min\u001b[39;49;00m\u001b[43m \u001b[49m\u001b[43mconfig\u001b[49m\u001b[38;5;241;43m.\u001b[39;49m\u001b[43mitems\u001b[49m\u001b[43m(\u001b[49m\u001b[43m)\u001b[49m\u001b[43m \u001b[49m\u001b[38;5;28;43;01mif\u001b[39;49;00m\u001b[43m \u001b[49m\u001b[43mv\u001b[49m\u001b[43m \u001b[49m\u001b[38;5;129;43;01mis\u001b[39;49;00m\u001b[43m \u001b[49m\u001b[38;5;129;43;01mnot\u001b[39;49;00m\u001b[43m \u001b[49m\u001b[38;5;28;43;01mNone\u001b[39;49;00m\u001b[43m}\u001b[49m\u001b[43m)\u001b[49m\u001b[43m,\u001b[49m\n\u001b[1;32m    392\u001b[0m \u001b[43m    \u001b[49m\u001b[43mreturn_only_outputs\u001b[49m\u001b[38;5;241;43m=\u001b[39;49m\u001b[43mreturn_only_outputs\u001b[49m\u001b[43m,\u001b[49m\n\u001b[1;32m    393\u001b[0m \u001b[43m    \u001b[49m\u001b[43minclude_run_info\u001b[49m\u001b[38;5;241;43m=\u001b[39;49m\u001b[43minclude_run_info\u001b[49m\u001b[43m,\u001b[49m\n\u001b[1;32m    394\u001b[0m \u001b[43m\u001b[49m\u001b[43m)\u001b[49m\n",
      "File \u001b[0;32m~/anaconda3/envs/langchain-venv/lib/python3.12/site-packages/langchain/chains/base.py:170\u001b[0m, in \u001b[0;36mChain.invoke\u001b[0;34m(self, input, config, **kwargs)\u001b[0m\n\u001b[1;32m    168\u001b[0m \u001b[38;5;28;01mexcept\u001b[39;00m \u001b[38;5;167;01mBaseException\u001b[39;00m \u001b[38;5;28;01mas\u001b[39;00m e:\n\u001b[1;32m    169\u001b[0m     run_manager\u001b[38;5;241m.\u001b[39mon_chain_error(e)\n\u001b[0;32m--> 170\u001b[0m     \u001b[38;5;28;01mraise\u001b[39;00m e\n\u001b[1;32m    171\u001b[0m run_manager\u001b[38;5;241m.\u001b[39mon_chain_end(outputs)\n\u001b[1;32m    173\u001b[0m \u001b[38;5;28;01mif\u001b[39;00m include_run_info:\n",
      "File \u001b[0;32m~/anaconda3/envs/langchain-venv/lib/python3.12/site-packages/langchain/chains/base.py:160\u001b[0m, in \u001b[0;36mChain.invoke\u001b[0;34m(self, input, config, **kwargs)\u001b[0m\n\u001b[1;32m    157\u001b[0m \u001b[38;5;28;01mtry\u001b[39;00m:\n\u001b[1;32m    158\u001b[0m     \u001b[38;5;28mself\u001b[39m\u001b[38;5;241m.\u001b[39m_validate_inputs(inputs)\n\u001b[1;32m    159\u001b[0m     outputs \u001b[38;5;241m=\u001b[39m (\n\u001b[0;32m--> 160\u001b[0m         \u001b[38;5;28;43mself\u001b[39;49m\u001b[38;5;241;43m.\u001b[39;49m\u001b[43m_call\u001b[49m\u001b[43m(\u001b[49m\u001b[43minputs\u001b[49m\u001b[43m,\u001b[49m\u001b[43m \u001b[49m\u001b[43mrun_manager\u001b[49m\u001b[38;5;241;43m=\u001b[39;49m\u001b[43mrun_manager\u001b[49m\u001b[43m)\u001b[49m\n\u001b[1;32m    161\u001b[0m         \u001b[38;5;28;01mif\u001b[39;00m new_arg_supported\n\u001b[1;32m    162\u001b[0m         \u001b[38;5;28;01melse\u001b[39;00m \u001b[38;5;28mself\u001b[39m\u001b[38;5;241m.\u001b[39m_call(inputs)\n\u001b[1;32m    163\u001b[0m     )\n\u001b[1;32m    165\u001b[0m     final_outputs: Dict[\u001b[38;5;28mstr\u001b[39m, Any] \u001b[38;5;241m=\u001b[39m \u001b[38;5;28mself\u001b[39m\u001b[38;5;241m.\u001b[39mprep_outputs(\n\u001b[1;32m    166\u001b[0m         inputs, outputs, return_only_outputs\n\u001b[1;32m    167\u001b[0m     )\n\u001b[1;32m    168\u001b[0m \u001b[38;5;28;01mexcept\u001b[39;00m \u001b[38;5;167;01mBaseException\u001b[39;00m \u001b[38;5;28;01mas\u001b[39;00m e:\n",
      "File \u001b[0;32m~/anaconda3/envs/langchain-venv/lib/python3.12/site-packages/langchain/agents/agent.py:1629\u001b[0m, in \u001b[0;36mAgentExecutor._call\u001b[0;34m(self, inputs, run_manager)\u001b[0m\n\u001b[1;32m   1627\u001b[0m \u001b[38;5;66;03m# We now enter the agent loop (until it returns something).\u001b[39;00m\n\u001b[1;32m   1628\u001b[0m \u001b[38;5;28;01mwhile\u001b[39;00m \u001b[38;5;28mself\u001b[39m\u001b[38;5;241m.\u001b[39m_should_continue(iterations, time_elapsed):\n\u001b[0;32m-> 1629\u001b[0m     next_step_output \u001b[38;5;241m=\u001b[39m \u001b[38;5;28;43mself\u001b[39;49m\u001b[38;5;241;43m.\u001b[39;49m\u001b[43m_take_next_step\u001b[49m\u001b[43m(\u001b[49m\n\u001b[1;32m   1630\u001b[0m \u001b[43m        \u001b[49m\u001b[43mname_to_tool_map\u001b[49m\u001b[43m,\u001b[49m\n\u001b[1;32m   1631\u001b[0m \u001b[43m        \u001b[49m\u001b[43mcolor_mapping\u001b[49m\u001b[43m,\u001b[49m\n\u001b[1;32m   1632\u001b[0m \u001b[43m        \u001b[49m\u001b[43minputs\u001b[49m\u001b[43m,\u001b[49m\n\u001b[1;32m   1633\u001b[0m \u001b[43m        \u001b[49m\u001b[43mintermediate_steps\u001b[49m\u001b[43m,\u001b[49m\n\u001b[1;32m   1634\u001b[0m \u001b[43m        \u001b[49m\u001b[43mrun_manager\u001b[49m\u001b[38;5;241;43m=\u001b[39;49m\u001b[43mrun_manager\u001b[49m\u001b[43m,\u001b[49m\n\u001b[1;32m   1635\u001b[0m \u001b[43m    \u001b[49m\u001b[43m)\u001b[49m\n\u001b[1;32m   1636\u001b[0m     \u001b[38;5;28;01mif\u001b[39;00m \u001b[38;5;28misinstance\u001b[39m(next_step_output, AgentFinish):\n\u001b[1;32m   1637\u001b[0m         \u001b[38;5;28;01mreturn\u001b[39;00m \u001b[38;5;28mself\u001b[39m\u001b[38;5;241m.\u001b[39m_return(\n\u001b[1;32m   1638\u001b[0m             next_step_output, intermediate_steps, run_manager\u001b[38;5;241m=\u001b[39mrun_manager\n\u001b[1;32m   1639\u001b[0m         )\n",
      "File \u001b[0;32m~/anaconda3/envs/langchain-venv/lib/python3.12/site-packages/langchain/agents/agent.py:1337\u001b[0m, in \u001b[0;36mAgentExecutor._take_next_step\u001b[0;34m(self, name_to_tool_map, color_mapping, inputs, intermediate_steps, run_manager)\u001b[0m\n\u001b[1;32m   1326\u001b[0m \u001b[38;5;28;01mdef\u001b[39;00m \u001b[38;5;21m_take_next_step\u001b[39m(\n\u001b[1;32m   1327\u001b[0m     \u001b[38;5;28mself\u001b[39m,\n\u001b[1;32m   1328\u001b[0m     name_to_tool_map: Dict[\u001b[38;5;28mstr\u001b[39m, BaseTool],\n\u001b[0;32m   (...)\u001b[0m\n\u001b[1;32m   1332\u001b[0m     run_manager: Optional[CallbackManagerForChainRun] \u001b[38;5;241m=\u001b[39m \u001b[38;5;28;01mNone\u001b[39;00m,\n\u001b[1;32m   1333\u001b[0m ) \u001b[38;5;241m-\u001b[39m\u001b[38;5;241m>\u001b[39m Union[AgentFinish, List[Tuple[AgentAction, \u001b[38;5;28mstr\u001b[39m]]]:\n\u001b[1;32m   1334\u001b[0m     \u001b[38;5;28;01mreturn\u001b[39;00m \u001b[38;5;28mself\u001b[39m\u001b[38;5;241m.\u001b[39m_consume_next_step(\n\u001b[1;32m   1335\u001b[0m         [\n\u001b[1;32m   1336\u001b[0m             a\n\u001b[0;32m-> 1337\u001b[0m             \u001b[38;5;28;01mfor\u001b[39;00m a \u001b[38;5;129;01min\u001b[39;00m \u001b[38;5;28mself\u001b[39m\u001b[38;5;241m.\u001b[39m_iter_next_step(\n\u001b[1;32m   1338\u001b[0m                 name_to_tool_map,\n\u001b[1;32m   1339\u001b[0m                 color_mapping,\n\u001b[1;32m   1340\u001b[0m                 inputs,\n\u001b[1;32m   1341\u001b[0m                 intermediate_steps,\n\u001b[1;32m   1342\u001b[0m                 run_manager,\n\u001b[1;32m   1343\u001b[0m             )\n\u001b[1;32m   1344\u001b[0m         ]\n\u001b[1;32m   1345\u001b[0m     )\n",
      "File \u001b[0;32m~/anaconda3/envs/langchain-venv/lib/python3.12/site-packages/langchain/agents/agent.py:1374\u001b[0m, in \u001b[0;36mAgentExecutor._iter_next_step\u001b[0;34m(self, name_to_tool_map, color_mapping, inputs, intermediate_steps, run_manager)\u001b[0m\n\u001b[1;32m   1372\u001b[0m     raise_error \u001b[38;5;241m=\u001b[39m \u001b[38;5;28;01mFalse\u001b[39;00m\n\u001b[1;32m   1373\u001b[0m \u001b[38;5;28;01mif\u001b[39;00m raise_error:\n\u001b[0;32m-> 1374\u001b[0m     \u001b[38;5;28;01mraise\u001b[39;00m \u001b[38;5;167;01mValueError\u001b[39;00m(\n\u001b[1;32m   1375\u001b[0m         \u001b[38;5;124m\"\u001b[39m\u001b[38;5;124mAn output parsing error occurred. \u001b[39m\u001b[38;5;124m\"\u001b[39m\n\u001b[1;32m   1376\u001b[0m         \u001b[38;5;124m\"\u001b[39m\u001b[38;5;124mIn order to pass this error back to the agent and have it try \u001b[39m\u001b[38;5;124m\"\u001b[39m\n\u001b[1;32m   1377\u001b[0m         \u001b[38;5;124m\"\u001b[39m\u001b[38;5;124magain, pass `handle_parsing_errors=True` to the AgentExecutor. \u001b[39m\u001b[38;5;124m\"\u001b[39m\n\u001b[1;32m   1378\u001b[0m         \u001b[38;5;124mf\u001b[39m\u001b[38;5;124m\"\u001b[39m\u001b[38;5;124mThis is the error: \u001b[39m\u001b[38;5;132;01m{\u001b[39;00m\u001b[38;5;28mstr\u001b[39m(e)\u001b[38;5;132;01m}\u001b[39;00m\u001b[38;5;124m\"\u001b[39m\n\u001b[1;32m   1379\u001b[0m     )\n\u001b[1;32m   1380\u001b[0m text \u001b[38;5;241m=\u001b[39m \u001b[38;5;28mstr\u001b[39m(e)\n\u001b[1;32m   1381\u001b[0m \u001b[38;5;28;01mif\u001b[39;00m \u001b[38;5;28misinstance\u001b[39m(\u001b[38;5;28mself\u001b[39m\u001b[38;5;241m.\u001b[39mhandle_parsing_errors, \u001b[38;5;28mbool\u001b[39m):\n",
      "\u001b[0;31mValueError\u001b[0m: An output parsing error occurred. In order to pass this error back to the agent and have it try again, pass `handle_parsing_errors=True` to the AgentExecutor. This is the error: Could not parse LLM output: `No transactions were found where money was transferred to Chime from your account. If you have any other questions or need further assistance, feel free to ask!`"
     ]
    }
   ],
   "source": [
    "response = agent.run(\"How much money have I transfered to Chime?\")\n",
    "print(response)"
   ]
  },
  {
   "cell_type": "markdown",
   "metadata": {},
   "source": [
    "#### **Parsing Error Handling in LangChain Framework**\n",
    "\n",
    "One limitation of the LangChain framework is that LLMs are prompted to follow a structured process: **Thought, Action, Action Input, Observation** or **Thought, {ai_prefix}**. However, even state-of-the-art LLMs do not always follow instructions with 100% accuracy. As a result, the generated output may deviate from the expected format, leading to errors such as `OutputError` or `ParsingError` within the LangChain framework.\n",
    "\n",
    "To handle this issue, I implemented a function that:\n",
    "\n",
    "- Extracts the relevant message from the GPT-4o powered LangChain agent's error output\n",
    "- Displays the extracted message to the user\n",
    "- Updates the memory buffer to reflect this change\n",
    "\n",
    "Note that this represents a **quick fix** and not a long-term solution."
   ]
  },
  {
   "cell_type": "code",
   "execution_count": 13,
   "metadata": {},
   "outputs": [],
   "source": [
    "def get_response(query): \n",
    "    try: \n",
    "        response = agent.run(query)\n",
    "    except Exception as e: \n",
    "        response = str(e)\n",
    "        start_index = response.find(\"Could not parse LLM output:\") + len(\"Could not parse LLM output:\")\n",
    "        if start_index != -1: \n",
    "            response = response[start_index:].strip(\"` \")\n",
    "            agent.memory.chat_memory.messages = memory.chat_memory.messages[:-2]\n",
    "            agent.memory.save_context({\"input:\": query}, {\"output\": response})\n",
    "    return response "
   ]
  },
  {
   "cell_type": "markdown",
   "metadata": {},
   "source": [
    "---\n",
    "\n",
    "### **Step 4: Results and Next Steps** 📝\n",
    "\n",
    "In this section, I will demonstrate the agent’s capabilities, as well as limitations, by prompting it with various queries. I will then propose potential next steps for improvement."
   ]
  },
  {
   "cell_type": "markdown",
   "metadata": {},
   "source": [
    "#### **1. Basic transaction inquiry**\n",
    "The agent correctly identified \"last year\" as 2023 and generated valid Python code to query the filtered dataframe and calculate the total amount of money spent."
   ]
  },
  {
   "cell_type": "code",
   "execution_count": 14,
   "metadata": {},
   "outputs": [
    {
     "name": "stdout",
     "output_type": "stream",
     "text": [
      "\n",
      "\n",
      "\u001b[1m> Entering new AgentExecutor chain...\u001b[0m\n",
      "\u001b[32;1m\u001b[1;3m```\n",
      "Thought: Do I need to use a tool? Yes\n",
      "Action: Datetime\n",
      "Action Input: \u001b[0m\n",
      "Observation: \u001b[38;5;200m\u001b[1;3m2024-09-27T23:10:49.756778\u001b[0m\n",
      "Thought:\u001b[32;1m\u001b[1;3m```\n",
      "Thought: Do I need to use a tool? Yes\n",
      "Action: Bank Transaction DataFrame\n",
      "Action Input: df[df['txn_date'].str.contains('2023')]['amt'].sum()\u001b[0m\n",
      "Observation: \u001b[36;1m\u001b[1;3m5747.736\u001b[0m\n",
      "Thought:\u001b[32;1m\u001b[1;3mAI: You have spent a total of $5,747.74 in the year 2023.\u001b[0m\n",
      "\n",
      "\u001b[1m> Finished chain.\u001b[0m\n",
      "You have spent a total of $5,747.74 in the year 2023.\n"
     ]
    }
   ],
   "source": [
    "response = get_response(\"How much money have I spent in total last year?\")\n",
    "print(response)"
   ]
  },
  {
   "cell_type": "markdown",
   "metadata": {},
   "source": [
    "#### **2. Spending and Budgeting Questions** 💸\n",
    "\n",
    "In the following tasks, the agent generated valid Python code to:\n",
    "\n",
    "1. Determine the category most spending transactions are related to.\n",
    "2. Conduct a detailed breakdown of the client’s spending habits.\n",
    "3. Generate a bar graph and pie chart for visualizing the spending breakdown.\n",
    "\n",
    "This demonstrates the agent’s ability to use the appropriate tools and leverage the memory buffer to produce contextually accurate responses.\n"
   ]
  },
  {
   "cell_type": "code",
   "execution_count": 15,
   "metadata": {},
   "outputs": [
    {
     "name": "stdout",
     "output_type": "stream",
     "text": [
      "\n",
      "\n",
      "\u001b[1m> Entering new AgentExecutor chain...\u001b[0m\n",
      "\u001b[32;1m\u001b[1;3m```\n",
      "Thought: Do I need to use a tool? Yes\n",
      "Action: Bank Transaction DataFrame\n",
      "Action Input: df.groupby('cat')['amt'].sum().idxmax()\u001b[0m\n",
      "Observation: \u001b[36;1m\u001b[1;3mPayroll\u001b[0m\n",
      "Thought:\u001b[32;1m\u001b[1;3mAI: You have been spending the most on payroll.\u001b[0m\n",
      "\n",
      "\u001b[1m> Finished chain.\u001b[0m\n",
      "You have been spending the most on payroll.\n"
     ]
    }
   ],
   "source": [
    "response = get_response(\"What have I been spending most on?\")\n",
    "print(response)"
   ]
  },
  {
   "cell_type": "code",
   "execution_count": 16,
   "metadata": {},
   "outputs": [
    {
     "name": "stdout",
     "output_type": "stream",
     "text": [
      "\n",
      "\n",
      "\u001b[1m> Entering new AgentExecutor chain...\u001b[0m\n",
      "\u001b[32;1m\u001b[1;3mThought: Do I need to use a tool? Yes\n",
      "Action: Bank Transaction DataFrame\n",
      "Action Input: df.groupby('cat')['amt'].sum()\u001b[0m\n",
      "Observation: \u001b[36;1m\u001b[1;3mcat\n",
      "Loans                236.000\n",
      "Payroll             4450.110\n",
      "Shops                 14.840\n",
      "Third Party          117.900\n",
      "Transfer Deposit     144.870\n",
      "Uncategorized        784.016\n",
      "Name: amt, dtype: float64\u001b[0m\n",
      "Thought:\u001b[32;1m\u001b[1;3mAI: Here is a breakdown of where you have spent your money:\n",
      "\n",
      "- Loans: $236.00\n",
      "- Payroll: $4,450.11\n",
      "- Shops: $14.84\n",
      "- Third Party: $117.90\n",
      "- Transfer Deposit: $144.87\n",
      "- Uncategorized: $784.02\u001b[0m\n",
      "\n",
      "\u001b[1m> Finished chain.\u001b[0m\n",
      "Here is a breakdown of where you have spent your money:\n",
      "\n",
      "- Loans: $236.00\n",
      "- Payroll: $4,450.11\n",
      "- Shops: $14.84\n",
      "- Third Party: $117.90\n",
      "- Transfer Deposit: $144.87\n",
      "- Uncategorized: $784.02\n"
     ]
    }
   ],
   "source": [
    "response = get_response(\"Can you do a breakdown of where I spend my money? \")\n",
    "print(response)"
   ]
  },
  {
   "cell_type": "code",
   "execution_count": 17,
   "metadata": {},
   "outputs": [
    {
     "name": "stdout",
     "output_type": "stream",
     "text": [
      "\n",
      "\n",
      "\u001b[1m> Entering new AgentExecutor chain...\u001b[0m\n"
     ]
    },
    {
     "name": "stderr",
     "output_type": "stream",
     "text": [
      "Python REPL can execute arbitrary code. Use with caution.\n"
     ]
    },
    {
     "name": "stdout",
     "output_type": "stream",
     "text": [
      "\u001b[32;1m\u001b[1;3mThought: Do I need to use a tool? Yes\n",
      "Action: python_shell\n",
      "Action Input: \n",
      "```\n",
      "import matplotlib.pyplot as plt\n",
      "\n",
      "# Data breakdown from the previous response\n",
      "categories = ['Loans', 'Payroll', 'Shops', 'Third Party', 'Transfer Deposit', 'Uncategorized']\n",
      "amounts = [236.00, 4450.11, 14.84, 117.90, 144.87, 784.02]\n",
      "\n",
      "# Creating the bar plot\n",
      "plt.figure(figsize=(10, 6))\n",
      "plt.bar(categories, amounts, color=['blue', 'orange', 'green', 'red', 'purple', 'brown'])\n",
      "plt.xlabel('Categories')\n",
      "plt.ylabel('Amount Spent ($)')\n",
      "plt.title('Breakdown of Spending')\n",
      "plt.xticks(rotation=45)\n",
      "plt.tight_layout()\n",
      "\n",
      "# Save the plot to a file\n",
      "plot_filename = 'spending_breakdown.png'\n",
      "plt.savefig(plot_filename)\n",
      "plt.show()\n",
      "```\u001b[0m"
     ]
    },
    {
     "data": {
      "image/png": "[encoded data removed]",
      "text/plain": [
       "<Figure size 1000x600 with 1 Axes>"
      ]
     },
     "metadata": {},
     "output_type": "display_data"
    },
    {
     "name": "stdout",
     "output_type": "stream",
     "text": [
      "\n",
      "Observation: \u001b[33;1m\u001b[1;3m\u001b[0m\n",
      "Thought:\u001b[32;1m\u001b[1;3mThought: Do I need to use a tool? No\n",
      "AI: Here is the plot showing the breakdown of your spending:\n",
      "\n",
      "![Breakdown of Spending](spending_breakdown.png)\u001b[0m\n",
      "\n",
      "\u001b[1m> Finished chain.\u001b[0m\n",
      "Here is the plot showing the breakdown of your spending:\n",
      "\n",
      "![Breakdown of Spending](spending_breakdown.png)\n"
     ]
    }
   ],
   "source": [
    "response = get_response(\"Can you plot this data? \")\n",
    "print(response)"
   ]
  },
  {
   "cell_type": "code",
   "execution_count": 18,
   "metadata": {},
   "outputs": [
    {
     "name": "stdout",
     "output_type": "stream",
     "text": [
      "\n",
      "\n",
      "\u001b[1m> Entering new AgentExecutor chain...\u001b[0m\n",
      "\u001b[32;1m\u001b[1;3mThought: Do I need to use a tool? Yes\n",
      "Action: python_shell\n",
      "Action Input: \n",
      "```\n",
      "import matplotlib.pyplot as plt\n",
      "\n",
      "# Data for the spending breakdown\n",
      "categories = ['Loans', 'Payroll', 'Shops', 'Third Party', 'Transfer Deposit', 'Uncategorized']\n",
      "amounts = [236.00, 4450.11, 14.84, 117.90, 144.87, 784.02]\n",
      "\n",
      "# Plotting the pie chart\n",
      "fig, ax = plt.subplots()\n",
      "ax.pie(amounts, labels=categories, autopct='%1.1f%%', startangle=90)\n",
      "ax.axis('equal')  # Equal aspect ratio ensures that pie is drawn as a circle.\n",
      "\n",
      "# Adding a title\n",
      "plt.title('Breakdown of Spending')\n",
      "\n",
      "# Save the plot to a file\n",
      "plt.savefig('/mnt/data/spending_breakdown_pie.png')\n",
      "```\u001b[0m\n",
      "Observation: \u001b[33;1m\u001b[1;3mFileNotFoundError(2, 'No such file or directory')\u001b[0m\n",
      "Thought:\u001b[32;1m\u001b[1;3mIt looks like there was an issue with saving the plot due to a directory error. I will fix the directory path and try again.\n",
      "\n",
      "Thought: Do I need to use a tool? Yes\n",
      "Action: python_shell\n",
      "Action Input: \n",
      "```\n",
      "import matplotlib.pyplot as plt\n",
      "\n",
      "# Data for the spending breakdown\n",
      "categories = ['Loans', 'Payroll', 'Shops', 'Third Party', 'Transfer Deposit', 'Uncategorized']\n",
      "amounts = [236.00, 4450.11, 14.84, 117.90, 144.87, 784.02]\n",
      "\n",
      "# Plotting the pie chart\n",
      "fig, ax = plt.subplots()\n",
      "ax.pie(amounts, labels=categories, autopct='%1.1f%%', startangle=90)\n",
      "ax.axis('equal')  # Equal aspect ratio ensures that pie is drawn as a circle.\n",
      "\n",
      "# Adding a title\n",
      "plt.title('Breakdown of Spending')\n",
      "\n",
      "# Save the plot to a file\n",
      "file_path = 'spending_breakdown_pie.png'\n",
      "plt.savefig(file_path)\n",
      "plt.close()\n",
      "file_path\n",
      "```\u001b[0m\n",
      "Observation: \u001b[33;1m\u001b[1;3m\u001b[0m\n",
      "Thought:\u001b[32;1m\u001b[1;3mDo I need to use a tool? No\n",
      "AI: Here is the pie chart showing the breakdown of your spending:\n",
      "\n",
      "![Breakdown of Spending](spending_breakdown_pie.png)\u001b[0m\n",
      "\n",
      "\u001b[1m> Finished chain.\u001b[0m\n",
      "Here is the pie chart showing the breakdown of your spending:\n",
      "\n",
      "![Breakdown of Spending](spending_breakdown_pie.png)\n"
     ]
    },
    {
     "data": {
      "image/png": "[encoded data removed]",
      "text/plain": [
       "<Figure size 640x480 with 1 Axes>"
      ]
     },
     "metadata": {},
     "output_type": "display_data"
    }
   ],
   "source": [
    "response = get_response(\"What about as a pie chart? \")\n",
    "print(response)"
   ]
  },
  {
   "cell_type": "markdown",
   "metadata": {},
   "source": [
    "#### **3. Financial planning** 📊\n",
    "\n",
    "In the following, I prompted the agent to provide insights on the client's spending habits and asked whether the client could afford a $500 purchase based on their transaction history. The agent generated valid Python code to compare the client’s spending versus earnings and asked clarifying questions when it encountered uncertainty."
   ]
  },
  {
   "cell_type": "code",
   "execution_count": 24,
   "metadata": {},
   "outputs": [
    {
     "name": "stdout",
     "output_type": "stream",
     "text": [
      "\n",
      "\n",
      "\u001b[1m> Entering new AgentExecutor chain...\u001b[0m\n",
      "\u001b[32;1m\u001b[1;3mThought: Do I need to use a tool? Yes\n",
      "Action: Bank Transaction DataFrame\n",
      "Action Input: Checking the total income and total expenses by summing up positive and negative amounts respectively.\u001b[0m\n",
      "Observation: \u001b[36;1m\u001b[1;3mSyntaxError: invalid syntax (<unknown>, line 1)\u001b[0m\n",
      "Thought:\u001b[32;1m\u001b[1;3mIt seems there was an issue with the previous execution. I'll need to sum up the positive amounts (income) and negative amounts (expenses) separately to determine if you are spending more than you earn.\n",
      "\n",
      "Let's start by calculating the total income and total expenses.\n",
      "\n",
      "```\n",
      "Thought: Do I need to use a tool? Yes\n",
      "Action: Bank Transaction DataFrame\n",
      "Action Input: df\u001b[0m\n",
      "Observation: \u001b[36;1m\u001b[1;3m   bank_id  acc_id  txn_id          txn_date             desc      amt  \\\n",
      "0        1     101    1001  01/01/2023 12:00          Grocery   -50.75   \n",
      "1        1     101    1002  01/02/2023 13:00     Utility Bill  -120.00   \n",
      "2        1     101    1003  01/03/2023 14:00           Dining   -45.00   \n",
      "3        1     101    1004  01/04/2023 15:00  Online Shopping  -200.00   \n",
      "4        1     101    1005  01/05/2023 16:00           Salary  2000.00   \n",
      "\n",
      "         cat          merchant  \n",
      "0  groceries       Supermarket  \n",
      "1  utilities  Electric Company  \n",
      "2     dining        Restaurant  \n",
      "3   shopping        E-Commerce  \n",
      "4     income          Employer  \u001b[0m\n",
      "Thought:\u001b[32;1m\u001b[1;3m```\n",
      "Thought: Do I need to use a tool? Yes\n",
      "Action: Bank Transaction DataFrame\n",
      "Action Input: df[df['amt'] > 0]['amt'].sum()\u001b[0m\n",
      "Observation: \u001b[36;1m\u001b[1;3m2000.0\u001b[0m\n",
      "Thought:\u001b[32;1m\u001b[1;3mYou earned a total of $2,000.\n",
      "\n",
      "Now, let's calculate the total amount you spent.\n",
      "\n",
      "```\n",
      "Thought: Do I need to use a tool? Yes\n",
      "Action: Bank Transaction DataFrame\n",
      "Action Input: df[df['amt'] < 0]['amt'].sum()\u001b[0m\n",
      "Observation: \u001b[36;1m\u001b[1;3m-415.75\u001b[0m\n",
      "Thought:\u001b[32;1m\u001b[1;3mYou have spent a total of $415.75.\n",
      "\n",
      "To summarize:\n",
      "- Total Earnings: $2,000\n",
      "- Total Spending: $415.75\n",
      "\n",
      "AI: You are not spending more than you earn. You have a positive net balance.\u001b[0m\n",
      "\n",
      "\u001b[1m> Finished chain.\u001b[0m\n",
      "You are not spending more than you earn. You have a positive net balance.\n"
     ]
    }
   ],
   "source": [
    "response = get_response(\"Am I spending more than I earn? \")\n",
    "print(response)"
   ]
  },
  {
   "cell_type": "markdown",
   "metadata": {},
   "source": [
    "The **handle parsing error** function (implemented using try-catch within the `get_response` function) proved to be useful here below: \n"
   ]
  },
  {
   "cell_type": "code",
   "execution_count": 25,
   "metadata": {},
   "outputs": [
    {
     "name": "stdout",
     "output_type": "stream",
     "text": [
      "\n",
      "\n",
      "\u001b[1m> Entering new AgentExecutor chain...\u001b[0m\n",
      "\u001b[32;1m\u001b[1;3mTo determine if you can afford a $500 purchase based on your spending habits, I need to analyze your income versus your expenses. Let's look at your net balance over a recent period to see if you have sufficient funds.\n",
      "\n",
      "Thought: Do I need to use a tool? Yes\n",
      "Action: Bank Transaction DataFrame\n",
      "Action Input: Calculate the net balance over a recent period (e.g., last month).\n",
      "\u001b[0m\n",
      "Observation: \u001b[36;1m\u001b[1;3mSyntaxError: invalid syntax (<unknown>, line 1)\u001b[0m\n",
      "Thought:\u001b[32;1m\u001b[1;3mTo determine if you can afford a $500 purchase, I need to analyze your recent income versus expenses. Let's start by calculating your net balance over the last month.\n",
      "\n",
      "```\n",
      "Thought: Do I need to use a tool? Yes\n",
      "Action: Bank Transaction DataFrame\n",
      "Action Input: df\u001b[0m\n",
      "Observation: \u001b[36;1m\u001b[1;3m   bank_id  acc_id  txn_id          txn_date             desc      amt  \\\n",
      "0        1     101    1001  01/01/2023 12:00          Grocery   -50.75   \n",
      "1        1     101    1002  01/02/2023 13:00     Utility Bill  -120.00   \n",
      "2        1     101    1003  01/03/2023 14:00           Dining   -45.00   \n",
      "3        1     101    1004  01/04/2023 15:00  Online Shopping  -200.00   \n",
      "4        1     101    1005  01/05/2023 16:00           Salary  2000.00   \n",
      "\n",
      "         cat          merchant  \n",
      "0  groceries       Supermarket  \n",
      "1  utilities  Electric Company  \n",
      "2     dining        Restaurant  \n",
      "3   shopping        E-Commerce  \n",
      "4     income          Employer  \u001b[0m\n",
      "Thought:To determine if you can afford a $500 purchase, I need to analyze your recent income versus expenses over a specific period. Let's consider the last month for this analysis.\n",
      "\n",
      "Could you please specify the exact period (e.g., last month or last three months) you would like me to consider for this calculation?\n"
     ]
    }
   ],
   "source": [
    "response = get_response(\"Can I afford a $500 purchase based on my spending habits? \")\n",
    "print(response)"
   ]
  },
  {
   "cell_type": "code",
   "execution_count": 27,
   "metadata": {},
   "outputs": [
    {
     "name": "stdout",
     "output_type": "stream",
     "text": [
      "\n",
      "\n",
      "\u001b[1m> Entering new AgentExecutor chain...\u001b[0m\n",
      "\u001b[32;1m\u001b[1;3m```\n",
      "Thought: Do I need to use a tool? Yes\n",
      "Action: Bank Transaction DataFrame\n",
      "Action Input: df\u001b[0m\n",
      "Observation: \u001b[36;1m\u001b[1;3m   bank_id  acc_id  txn_id          txn_date             desc      amt  \\\n",
      "0        1     101    1001  01/01/2023 12:00          Grocery   -50.75   \n",
      "1        1     101    1002  01/02/2023 13:00     Utility Bill  -120.00   \n",
      "2        1     101    1003  01/03/2023 14:00           Dining   -45.00   \n",
      "3        1     101    1004  01/04/2023 15:00  Online Shopping  -200.00   \n",
      "4        1     101    1005  01/05/2023 16:00           Salary  2000.00   \n",
      "\n",
      "         cat          merchant  \n",
      "0  groceries       Supermarket  \n",
      "1  utilities  Electric Company  \n",
      "2     dining        Restaurant  \n",
      "3   shopping        E-Commerce  \n",
      "4     income          Employer  \u001b[0m\n",
      "Thought:\u001b[32;1m\u001b[1;3mTo determine if you can afford a $500 purchase based on your spending habits, I need to analyze your total income and total expenses over your entire transaction history. Let's calculate these values:\n",
      "\n",
      "```\n",
      "total_income = df[df['amt'] > 0]['amt'].sum()\n",
      "total_expenses = df[df['amt'] < 0]['amt'].sum()\n",
      "balance = total_income + total_expenses\n",
      "```\n",
      "\n",
      "Give me a moment to process this data.\n",
      "\n",
      "```\n",
      "Thought: Do I need to use a tool? Yes\n",
      "Action: Bank Transaction DataFrame\n",
      "Action Input: df[df['amt'] > 0]['amt'].sum(), df[df['amt'] < 0]['amt'].sum()\u001b[0m\n",
      "Observation: \u001b[36;1m\u001b[1;3m(2000.0, -415.75)\u001b[0m\n",
      "Thought:\u001b[32;1m\u001b[1;3mBased on your entire transaction history, here is a summary of your financial situation:\n",
      "\n",
      "- **Total Income**: $2000.00\n",
      "- **Total Expenses**: $415.75\n",
      "\n",
      "To determine if you can afford a $500 purchase, let's calculate your current balance:\n",
      "\n",
      "```\n",
      "balance = total_income + total_expenses\n",
      "balance = 2000.00 - 415.75 = 1584.25\n",
      "```\n",
      "\n",
      "AI: You currently have a balance of $1584.25. Therefore, you can afford a $500 purchase based on your spending habits.\u001b[0m\n",
      "\n",
      "\u001b[1m> Finished chain.\u001b[0m\n",
      "You currently have a balance of $1584.25. Therefore, you can afford a $500 purchase based on your spending habits.\n"
     ]
    }
   ],
   "source": [
    "response = get_response(\"Consider my whole history. \")\n",
    "print(response)"
   ]
  },
  {
   "cell_type": "markdown",
   "metadata": {},
   "source": [
    "### <span style=\"color:red\">**Next Steps**</span>\n",
    "\n",
    "From the examples above, we see that the agent is able to generate valid responses to financial queries. However, it currently lacks 'proactiveness' in interpreting and making sense of the results. In other words, the ability to think critically. For instance, not all positive (debit) values represent spending—they could include investments or ATM withdrawals. Similarly, not all negative (credit) values reflect earnings; they could be cashback rewards, tax refunds, or transaction refunds.\n",
    "\n",
    "Ideally, the agent should be able to break down transaction histories, categorize them appropriately, and differentiate between true spending and other financial activities such as savings or investments. This would enable the agent to provide deeper insights into spending habits, saving trends, and financial behaviors.\n",
    "\n",
    "With more extensive prompting, the agent should be able to achieve this level of analysis. That is, for a quick solution, we could adjust the system prompt to include more detailed instructions on how to interpret different types of transactions. However, it is important to note that a longer system prompt may affect the performance of other tasks, such as handling simple financial queries with a direct answer. Striking a balance between prompt length and task performance will be key. A long-term solution would be to perform fine-tuning. \n",
    "\n",
    "Additionally, customers may be interested in understanding current and potential future trends in the financial market. Integrating market trend data with transaction histories opens up an interesting avenue for further development. **Graph Neural Networks (GNNs)** could be a powerful tool for modeling these interactions.\n",
    "\n",
    "\n",
    "### **Key Areas for Improvement:**\n",
    "1. **Transaction Categorization**: Automatically classifying transactions into meaningful categories like spending, savings, and investments.\n",
    "2. **Proactive Insights**: Enabling the agent to offer recommendations and insights based on spending patterns and financial goals.\n",
    "3. **Market Trend Integration**: Incorporating financial market data to help customers make more informed decisions based on both personal transactions and market conditions.\n",
    "4. **Use of Graph Neural Networks**: Exploring GNNs to analyze and predict relationships between transaction data and market trends.\n"
   ]
  }
 ],
 "metadata": {
  "kernelspec": {
   "display_name": "langchain-venv",
   "language": "python",
   "name": "python3"
  },
  "language_info": {
   "codemirror_mode": {
    "name": "ipython",
    "version": 3
   },
   "file_extension": ".py",
   "mimetype": "text/x-python",
   "name": "python",
   "nbconvert_exporter": "python",
   "pygments_lexer": "ipython3",
   "version": "3.12.6"
  }
 },
 "nbformat": 4,
 "nbformat_minor": 2
}
